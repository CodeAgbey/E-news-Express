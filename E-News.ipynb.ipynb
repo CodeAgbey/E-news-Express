{
 "cells": [
  {
   "cell_type": "markdown",
   "id": "88c015e7-73fa-4ac6-8090-a51c7605478c",
   "metadata": {},
   "source": [
    "\n",
    "***Description***\n",
    "\n",
    "**Background:** \n",
    "\n",
    "An online news portal aims to expand its business by acquiring new subscribers. Every visitor to the website takes certain actions based on their interest. The company plans to analyze these interests and wants to determine whether a new feature will be effective or not. Companies often analyze users' responses to two variants of a product to decide which of the two variants is more effective. This experimental technique is known as a/b testing that is used to determine whether a new feature attracts users based on a chosen metric.\n",
    "\n",
    "Suppose you are hired as a Data Scientist in E-news Express. The design team of the company has created a new landing page. You have been assigned the task to decide whether the new landing page is more effective to gather new subscribers. Suppose you randomly selected 100 users and divided them equally into two groups. The old landing page is served to the first group (control group) and the new landing page is served to the second group (treatment group). Various data about the customers in both groups are collected in 'abtest.csv'. Perform the statistical analysis to answer the following questions using the collected data.\n",
    "\n",
    "**Objective:**\n",
    "\n",
    "Statistical analysis of business data. Explore the dataset and extract insights from the data. The idea is for you to get comfortable with doing statistical analysis in Python.\n",
    "\n",
    "You are expected to perform the statistical analysis to answer the following questions:\n",
    "\n",
    "Explore the dataset and extract insights using Exploratory Data Analysis.\n",
    "Do the users spend more time on the new landing page than the old landing page?\n",
    "Is the conversion rate (the proportion of users who visit the landing page and get converted) for the new page greater than the conversion rate for the old page?\n",
    "Does the converted status depend on the preferred language? [Hint: Create a contingency table using the pandas.crosstab() function]\n",
    "Is the mean time spent on the new page same for the different language users?\n",
    "*Consider a significance level of 0.05 for all tests.\n",
    "\n",
    "\n",
    "**Data Dictionary:**\n",
    "\n",
    "user_id - This represents the user ID of the person visiting the website.\n",
    "\n",
    "group - This represents whether the user belongs to the first group (control) or the second group (treatment).\n",
    "\n",
    "landing_page - This represents whether the landing page is new or old.\n",
    "\n",
    "time_spent_on_the_page - This represents the time (in minutes) spent by the user on the landing page.\n",
    "\n",
    "converted - This represents whether the user gets converted to a subscriber of the news portal or not.\n",
    "\n",
    "language_preferred - This represents the language chosen by the user to view the landing page.\n"
   ]
  },
  {
   "cell_type": "code",
   "execution_count": 1,
   "id": "4c5c86a7-13fa-48e5-b1eb-1851cffc9674",
   "metadata": {},
   "outputs": [],
   "source": [
    "# import libraries for data manipulation\n",
    "import numpy as np\n",
    "import pandas as pd\n",
    "\n",
    "# import libraries for data visualization\n",
    "import matplotlib.pyplot as plt\n",
    "import seaborn as sns\n",
    "\n",
    "#import statistical package\n",
    "import scipy.stats as stats\n",
    "\n",
    "%matplotlib inline"
   ]
  },
  {
   "cell_type": "code",
   "execution_count": 2,
   "id": "4bb0e606-70d7-41e8-b870-efca5d82b7be",
   "metadata": {},
   "outputs": [
    {
     "data": {
      "text/html": [
       "<div>\n",
       "<style scoped>\n",
       "    .dataframe tbody tr th:only-of-type {\n",
       "        vertical-align: middle;\n",
       "    }\n",
       "\n",
       "    .dataframe tbody tr th {\n",
       "        vertical-align: top;\n",
       "    }\n",
       "\n",
       "    .dataframe thead th {\n",
       "        text-align: right;\n",
       "    }\n",
       "</style>\n",
       "<table border=\"1\" class=\"dataframe\">\n",
       "  <thead>\n",
       "    <tr style=\"text-align: right;\">\n",
       "      <th></th>\n",
       "      <th>user_id</th>\n",
       "      <th>group</th>\n",
       "      <th>landing_page</th>\n",
       "      <th>time_spent_on_the_page</th>\n",
       "      <th>converted</th>\n",
       "      <th>language_preferred</th>\n",
       "    </tr>\n",
       "  </thead>\n",
       "  <tbody>\n",
       "    <tr>\n",
       "      <th>0</th>\n",
       "      <td>546592</td>\n",
       "      <td>control</td>\n",
       "      <td>old</td>\n",
       "      <td>3.48</td>\n",
       "      <td>no</td>\n",
       "      <td>Spanish</td>\n",
       "    </tr>\n",
       "    <tr>\n",
       "      <th>1</th>\n",
       "      <td>546468</td>\n",
       "      <td>treatment</td>\n",
       "      <td>new</td>\n",
       "      <td>7.13</td>\n",
       "      <td>yes</td>\n",
       "      <td>English</td>\n",
       "    </tr>\n",
       "    <tr>\n",
       "      <th>2</th>\n",
       "      <td>546462</td>\n",
       "      <td>treatment</td>\n",
       "      <td>new</td>\n",
       "      <td>4.40</td>\n",
       "      <td>no</td>\n",
       "      <td>Spanish</td>\n",
       "    </tr>\n",
       "    <tr>\n",
       "      <th>3</th>\n",
       "      <td>546567</td>\n",
       "      <td>control</td>\n",
       "      <td>old</td>\n",
       "      <td>3.02</td>\n",
       "      <td>no</td>\n",
       "      <td>French</td>\n",
       "    </tr>\n",
       "    <tr>\n",
       "      <th>4</th>\n",
       "      <td>546459</td>\n",
       "      <td>treatment</td>\n",
       "      <td>new</td>\n",
       "      <td>4.75</td>\n",
       "      <td>yes</td>\n",
       "      <td>Spanish</td>\n",
       "    </tr>\n",
       "    <tr>\n",
       "      <th>...</th>\n",
       "      <td>...</td>\n",
       "      <td>...</td>\n",
       "      <td>...</td>\n",
       "      <td>...</td>\n",
       "      <td>...</td>\n",
       "      <td>...</td>\n",
       "    </tr>\n",
       "    <tr>\n",
       "      <th>95</th>\n",
       "      <td>546446</td>\n",
       "      <td>treatment</td>\n",
       "      <td>new</td>\n",
       "      <td>5.15</td>\n",
       "      <td>no</td>\n",
       "      <td>Spanish</td>\n",
       "    </tr>\n",
       "    <tr>\n",
       "      <th>96</th>\n",
       "      <td>546544</td>\n",
       "      <td>control</td>\n",
       "      <td>old</td>\n",
       "      <td>6.52</td>\n",
       "      <td>yes</td>\n",
       "      <td>English</td>\n",
       "    </tr>\n",
       "    <tr>\n",
       "      <th>97</th>\n",
       "      <td>546472</td>\n",
       "      <td>treatment</td>\n",
       "      <td>new</td>\n",
       "      <td>7.07</td>\n",
       "      <td>yes</td>\n",
       "      <td>Spanish</td>\n",
       "    </tr>\n",
       "    <tr>\n",
       "      <th>98</th>\n",
       "      <td>546481</td>\n",
       "      <td>treatment</td>\n",
       "      <td>new</td>\n",
       "      <td>6.20</td>\n",
       "      <td>yes</td>\n",
       "      <td>Spanish</td>\n",
       "    </tr>\n",
       "    <tr>\n",
       "      <th>99</th>\n",
       "      <td>546483</td>\n",
       "      <td>treatment</td>\n",
       "      <td>new</td>\n",
       "      <td>5.86</td>\n",
       "      <td>yes</td>\n",
       "      <td>English</td>\n",
       "    </tr>\n",
       "  </tbody>\n",
       "</table>\n",
       "<p>100 rows × 6 columns</p>\n",
       "</div>"
      ],
      "text/plain": [
       "    user_id      group landing_page  time_spent_on_the_page converted  \\\n",
       "0    546592    control          old                    3.48        no   \n",
       "1    546468  treatment          new                    7.13       yes   \n",
       "2    546462  treatment          new                    4.40        no   \n",
       "3    546567    control          old                    3.02        no   \n",
       "4    546459  treatment          new                    4.75       yes   \n",
       "..      ...        ...          ...                     ...       ...   \n",
       "95   546446  treatment          new                    5.15        no   \n",
       "96   546544    control          old                    6.52       yes   \n",
       "97   546472  treatment          new                    7.07       yes   \n",
       "98   546481  treatment          new                    6.20       yes   \n",
       "99   546483  treatment          new                    5.86       yes   \n",
       "\n",
       "   language_preferred  \n",
       "0             Spanish  \n",
       "1             English  \n",
       "2             Spanish  \n",
       "3              French  \n",
       "4             Spanish  \n",
       "..                ...  \n",
       "95            Spanish  \n",
       "96            English  \n",
       "97            Spanish  \n",
       "98            Spanish  \n",
       "99            English  \n",
       "\n",
       "[100 rows x 6 columns]"
      ]
     },
     "execution_count": 2,
     "metadata": {},
     "output_type": "execute_result"
    }
   ],
   "source": [
    "#Read the data\n",
    "df = pd.read_csv('abtest.csv')\n",
    "df"
   ]
  },
  {
   "cell_type": "markdown",
   "id": "fae0c8b6-8ffc-456f-9886-d73fceb8c7cd",
   "metadata": {},
   "source": [
    "The DataFrams has 100 rows and 6 columns. The columns are group, the landing_page(old or new), time_spent_on_the_page (in minutes), converted (yes/no), and language preferred "
   ]
  },
  {
   "cell_type": "code",
   "execution_count": 3,
   "id": "37403120-b647-44e1-be72-c76886ca1901",
   "metadata": {},
   "outputs": [
    {
     "name": "stdout",
     "output_type": "stream",
     "text": [
      "<class 'pandas.core.frame.DataFrame'>\n",
      "RangeIndex: 100 entries, 0 to 99\n",
      "Data columns (total 6 columns):\n",
      " #   Column                  Non-Null Count  Dtype  \n",
      "---  ------                  --------------  -----  \n",
      " 0   user_id                 100 non-null    int64  \n",
      " 1   group                   100 non-null    object \n",
      " 2   landing_page            100 non-null    object \n",
      " 3   time_spent_on_the_page  100 non-null    float64\n",
      " 4   converted               100 non-null    object \n",
      " 5   language_preferred      100 non-null    object \n",
      "dtypes: float64(1), int64(1), object(4)\n",
      "memory usage: 4.8+ KB\n"
     ]
    }
   ],
   "source": [
    "df.info()  # Returns concise summary of the data"
   ]
  },
  {
   "cell_type": "markdown",
   "id": "9a6dfe7a-9536-4312-8500-c704194c5fb1",
   "metadata": {},
   "source": [
    "**Observation**\n",
    "The columns - group, landing_page, converted and language are all object types. time_spent_on_the_page is a float type"
   ]
  },
  {
   "cell_type": "code",
   "execution_count": 4,
   "id": "0141821d-15fa-430d-9ac2-1de1a5e0a5d8",
   "metadata": {},
   "outputs": [
    {
     "data": {
      "text/plain": [
       "user_id                   0\n",
       "group                     0\n",
       "landing_page              0\n",
       "time_spent_on_the_page    0\n",
       "converted                 0\n",
       "language_preferred        0\n",
       "dtype: int64"
      ]
     },
     "execution_count": 4,
     "metadata": {},
     "output_type": "execute_result"
    }
   ],
   "source": [
    "df.isnull().sum() # Returns the total no of missing rows or column"
   ]
  },
  {
   "cell_type": "markdown",
   "id": "5b7287e5-6d62-44c3-9b45-7b1ce60ab57b",
   "metadata": {},
   "source": [
    "No missing rows or column."
   ]
  },
  {
   "cell_type": "code",
   "execution_count": 5,
   "id": "946ad6c3-c5a6-4388-869a-85125a602697",
   "metadata": {},
   "outputs": [
    {
     "data": {
      "text/html": [
       "<div>\n",
       "<style scoped>\n",
       "    .dataframe tbody tr th:only-of-type {\n",
       "        vertical-align: middle;\n",
       "    }\n",
       "\n",
       "    .dataframe tbody tr th {\n",
       "        vertical-align: top;\n",
       "    }\n",
       "\n",
       "    .dataframe thead th {\n",
       "        text-align: right;\n",
       "    }\n",
       "</style>\n",
       "<table border=\"1\" class=\"dataframe\">\n",
       "  <thead>\n",
       "    <tr style=\"text-align: right;\">\n",
       "      <th></th>\n",
       "      <th>user_id</th>\n",
       "      <th>time_spent_on_the_page</th>\n",
       "    </tr>\n",
       "  </thead>\n",
       "  <tbody>\n",
       "    <tr>\n",
       "      <th>count</th>\n",
       "      <td>100.000000</td>\n",
       "      <td>100.000000</td>\n",
       "    </tr>\n",
       "    <tr>\n",
       "      <th>mean</th>\n",
       "      <td>546517.000000</td>\n",
       "      <td>5.377800</td>\n",
       "    </tr>\n",
       "    <tr>\n",
       "      <th>std</th>\n",
       "      <td>52.295779</td>\n",
       "      <td>2.378166</td>\n",
       "    </tr>\n",
       "    <tr>\n",
       "      <th>min</th>\n",
       "      <td>546443.000000</td>\n",
       "      <td>0.190000</td>\n",
       "    </tr>\n",
       "    <tr>\n",
       "      <th>25%</th>\n",
       "      <td>546467.750000</td>\n",
       "      <td>3.880000</td>\n",
       "    </tr>\n",
       "    <tr>\n",
       "      <th>50%</th>\n",
       "      <td>546492.500000</td>\n",
       "      <td>5.415000</td>\n",
       "    </tr>\n",
       "    <tr>\n",
       "      <th>75%</th>\n",
       "      <td>546567.250000</td>\n",
       "      <td>7.022500</td>\n",
       "    </tr>\n",
       "    <tr>\n",
       "      <th>max</th>\n",
       "      <td>546592.000000</td>\n",
       "      <td>10.710000</td>\n",
       "    </tr>\n",
       "  </tbody>\n",
       "</table>\n",
       "</div>"
      ],
      "text/plain": [
       "             user_id  time_spent_on_the_page\n",
       "count     100.000000              100.000000\n",
       "mean   546517.000000                5.377800\n",
       "std        52.295779                2.378166\n",
       "min    546443.000000                0.190000\n",
       "25%    546467.750000                3.880000\n",
       "50%    546492.500000                5.415000\n",
       "75%    546567.250000                7.022500\n",
       "max    546592.000000               10.710000"
      ]
     },
     "execution_count": 5,
     "metadata": {},
     "output_type": "execute_result"
    }
   ],
   "source": [
    "df.describe()  #returns data statistic"
   ]
  },
  {
   "cell_type": "markdown",
   "id": "4a2ecda1-6b64-4877-b979-042b20ec58df",
   "metadata": {},
   "source": [
    "**time_spent_on_the_page** is the only numberical column and has the following statistic: The mean and the standard deviation are  is 5.38 minutes \n",
    "2.38 minutes respectively. The range is from 0.19 minute to 10.71 minute."
   ]
  },
  {
   "cell_type": "code",
   "execution_count": 6,
   "id": "3b704ec4-204c-4383-a106-94c1d200f3c9",
   "metadata": {},
   "outputs": [
    {
     "data": {
      "text/plain": [
       "<pandas.core.groupby.generic.SeriesGroupBy object at 0x00000249E3A842E0>"
      ]
     },
     "execution_count": 6,
     "metadata": {},
     "output_type": "execute_result"
    }
   ],
   "source": [
    "df.groupby(\"landing_page\")['time_spent_on_the_page']"
   ]
  },
  {
   "cell_type": "code",
   "execution_count": 23,
   "id": "e0f22e03-7b6e-4cfa-8055-69dc5dc0b760",
   "metadata": {},
   "outputs": [],
   "source": [
    "# function to plot a boxplot and a histogram along the same scale.\n",
    "\n",
    "\n",
    "def histogram_boxplot(data, feature, figsize=(12, 7), kde=False, bins=None):\n",
    "    \"\"\"\n",
    "    Boxplot and histogram combined\n",
    "\n",
    "    data: dataframe\n",
    "    feature: dataframe column\n",
    "    figsize: size of figure (default (12,7))\n",
    "    kde: whether to show the density curve (default False)\n",
    "    bins: number of bins for histogram (default None)\n",
    "    \"\"\"\n",
    "    f2, (ax_box2, ax_hist2) = plt.subplots(\n",
    "        nrows=2,  # Number of rows of the subplot grid= 2\n",
    "        sharex=True,  # x-axis will be shared among all subplots\n",
    "        gridspec_kw={\"height_ratios\": (0.25, 0.75)},\n",
    "        figsize=figsize,\n",
    "    )  # creating the 2 subplots\n",
    "    sns.boxplot(\n",
    "        data=data, x=feature, ax=ax_box2, showmeans=True, color=\"violet\"\n",
    "    )  # boxplot will be created and a star will indicate the mean value of the column\n",
    "    sns.histplot(\n",
    "        data=data, x=feature, kde=kde, ax=ax_hist2, bins=bins, palette=\"winter\"\n",
    "    ) if bins else sns.histplot(\n",
    "        data=data, x=feature, kde=kde, ax=ax_hist2\n",
    "    )  # For histogram\n",
    "    ax_hist2.axvline(\n",
    "        data[feature].mean(), color=\"green\", linestyle=\"--\"\n",
    "    )  # Add mean to the histogram\n",
    "    ax_hist2.axvline(\n",
    "        data[feature].median(), color=\"black\", linestyle=\"-\"\n",
    "    )  # Add median to the histogram"
   ]
  },
  {
   "cell_type": "code",
   "execution_count": 24,
   "id": "803d6032-b0aa-4804-a83c-df84a7edfd1d",
   "metadata": {},
   "outputs": [],
   "source": [
    "# function to create labeled barplots\n",
    "\n",
    "\n",
    "def labeled_barplot(data, feature, perc=False, n=None):\n",
    "    \"\"\"\n",
    "    Barplot with percentage at the top\n",
    "\n",
    "    data: dataframe\n",
    "    feature: dataframe column\n",
    "    perc: whether to display percentages instead of count (default is False)\n",
    "    n: displays the top n category levels (default is None, i.e., display all levels)\n",
    "    \"\"\"\n",
    "\n",
    "    total = len(data[feature])  # length of the column\n",
    "    count = data[feature].nunique()\n",
    "    if n is None:\n",
    "        plt.figure(figsize=(count + 1, 5))\n",
    "    else:\n",
    "        plt.figure(figsize=(n + 1, 5))\n",
    "\n",
    "    plt.xticks(rotation=90, fontsize=15)\n",
    "    ax = sns.countplot(\n",
    "        data=data,\n",
    "        x=feature,\n",
    "        palette=\"Paired\",\n",
    "        order=data[feature].value_counts().index[:n].sort_values(),\n",
    "    )\n",
    "\n",
    "    for p in ax.patches:\n",
    "        if perc == True:\n",
    "            label = \"{:.1f}%\".format(\n",
    "                100 * p.get_height() / total\n",
    "            )  # percentage of each class of the category\n",
    "        else:\n",
    "            label = p.get_height()  # count of each level of the category\n",
    "\n",
    "        x = p.get_x() + p.get_width() / 2  # width of the plot\n",
    "        y = p.get_height()  # height of the plot\n",
    "\n",
    "        ax.annotate(\n",
    "            label,\n",
    "            (x, y),\n",
    "            ha=\"center\",\n",
    "            va=\"center\",\n",
    "            size=12,\n",
    "            xytext=(0, 5),\n",
    "            textcoords=\"offset points\",\n",
    "        )  # annotate the percentage\n",
    "\n",
    "    plt.show()  # show the plot"
   ]
  },
  {
   "cell_type": "code",
   "execution_count": 25,
   "id": "6c93c69d-6133-486a-b6c4-f33ca4b9b7e0",
   "metadata": {},
   "outputs": [
    {
     "data": {
      "image/png": "[encoded data removed]",
      "text/plain": [
       "<Figure size 864x504 with 2 Axes>"
      ]
     },
     "metadata": {
      "needs_background": "light"
     },
     "output_type": "display_data"
    },
    {
     "name": "stdout",
     "output_type": "stream",
     "text": [
      "mean: 5.38 and median: 5.42\n"
     ]
    }
   ],
   "source": [
    "histogram_boxplot(df, \"time_spent_on_the_page\")\n",
    "plt.show()\n",
    "mean = round(df[\"time_spent_on_the_page\"].mean(), 2)\n",
    "median = round(df[\"time_spent_on_the_page\"].median(), 2)\n",
    "print('mean:',mean, 'and median:',  median)"
   ]
  },
  {
   "cell_type": "markdown",
   "id": "c1d478bb-d0f0-4cff-bbeb-7d2f0cdce77a",
   "metadata": {},
   "source": [
    "The time spent on the page is normally distributed; the mean and the median are about the same, 5,40 and 5,42 minutes respctively,  and there are no outliers.\n",
    "    "
   ]
  },
  {
   "cell_type": "code",
   "execution_count": 26,
   "id": "f05ad526-03b5-4ef2-aa8b-eecf1adce81d",
   "metadata": {},
   "outputs": [
    {
     "data": {
      "image/png": "[encoded data removed]",
      "text/plain": [
       "<Figure size 216x360 with 1 Axes>"
      ]
     },
     "metadata": {
      "needs_background": "light"
     },
     "output_type": "display_data"
    },
    {
     "data": {
      "image/png": "[encoded data removed]",
      "text/plain": [
       "<Figure size 288x360 with 1 Axes>"
      ]
     },
     "metadata": {
      "needs_background": "light"
     },
     "output_type": "display_data"
    },
    {
     "data": {
      "image/png": "[encoded data removed]",
      "text/plain": [
       "<Figure size 216x360 with 1 Axes>"
      ]
     },
     "metadata": {
      "needs_background": "light"
     },
     "output_type": "display_data"
    },
    {
     "data": {
      "image/png": "[encoded data removed]",
      "text/plain": [
       "<Figure size 216x360 with 1 Axes>"
      ]
     },
     "metadata": {
      "needs_background": "light"
     },
     "output_type": "display_data"
    },
    {
     "data": {
      "image/png": "[encoded data removed]",
      "text/plain": [
       "<Figure size 216x360 with 1 Axes>"
      ]
     },
     "metadata": {
      "needs_background": "light"
     },
     "output_type": "display_data"
    }
   ],
   "source": [
    "# Plots of different graphs \n",
    "ax1 = labeled_barplot(\n",
    "    df, \"landing_page\"\n",
    ")  \n",
    "plt.show()\n",
    "ax2 = labeled_barplot(df, \"language_preferred\")\n",
    "plt.show()\n",
    "ax3 = labeled_barplot(df, \"converted\")\n",
    "plt.show()\n",
    "ax4 = labeled_barplot(df, \"group\")\n",
    "plt.show()\n",
    "ax3 = labeled_barplot(df, 'group')"
   ]
  },
  {
   "cell_type": "markdown",
   "id": "ccfb576e-bf4f-454a-8c1a-41526d7a8df4",
   "metadata": {},
   "source": [
    "**Observation**\n",
    "\n",
    "Of the 100 Customers surveyed:\n",
    "\n",
    "50 Customers, also referred to as the control group were served to the old lading_page.\n",
    "\n",
    "50 Customers, also referred to as the treatment group were served to the new landing_page.\n",
    "\n",
    "\n",
    "32 customers chose to view the landing page in spanish\n",
    "\n",
    "32 customers chose to view the landing page in English\n",
    "\n",
    "34 customers chose to view the landing page in spanish\n",
    "\n",
    "In all 54 users got converted to a subscriber of the news portal.\n",
    "\n"
   ]
  },
  {
   "cell_type": "markdown",
   "id": "58f932b5-7d65-466f-a7cb-f7063171226f",
   "metadata": {},
   "source": []
  },
  {
   "cell_type": "code",
   "execution_count": 27,
   "id": "b71c2aae-92e1-4a77-a424-e93aea0309ea",
   "metadata": {},
   "outputs": [
    {
     "data": {
      "image/png": "[encoded data removed]",
      "text/plain": [
       "<Figure size 432x288 with 1 Axes>"
      ]
     },
     "metadata": {
      "needs_background": "light"
     },
     "output_type": "display_data"
    },
    {
     "data": {
      "text/plain": [
       "landing_page\n",
       "new    6.22\n",
       "old    4.53\n",
       "Name: time_spent_on_the_page, dtype: float64"
      ]
     },
     "execution_count": 27,
     "metadata": {},
     "output_type": "execute_result"
    }
   ],
   "source": [
    "# Finding the mean time spent on each page\n",
    "sns.barplot(data =df, x = 'landing_page', y = 'time_spent_on_the_page' );\n",
    "plt.show()\n",
    "mean_time_spent_on_page =round(df.groupby('landing_page')['time_spent_on_the_page'].mean(),2)\n",
    "mean_time_spent_on_page\n"
   ]
  },
  {
   "cell_type": "markdown",
   "id": "96c614b6-8bc5-48b1-aa88-2e33e0ba8397",
   "metadata": {},
   "source": [
    "**Observation**\n",
    "Customers spent on average 6.22 and 4.53 minutes, on the new and old landing_page respectively."
   ]
  },
  {
   "cell_type": "code",
   "execution_count": 28,
   "id": "ce3da81a-ff9a-4d39-b9a6-123b4dc742cc",
   "metadata": {},
   "outputs": [
    {
     "data": {
      "image/png": "[encoded data removed]",
      "text/plain": [
       "<Figure size 360x360 with 1 Axes>"
      ]
     },
     "metadata": {
      "needs_background": "light"
     },
     "output_type": "display_data"
    },
    {
     "data": {
      "image/png": "[encoded data removed]",
      "text/plain": [
       "<Figure size 435.25x360 with 1 Axes>"
      ]
     },
     "metadata": {
      "needs_background": "light"
     },
     "output_type": "display_data"
    }
   ],
   "source": [
    "sns.catplot(data = df,  x= 'language_preferred', y = \"time_spent_on_the_page\", kind = \"bar\",  \n",
    "            palette=\"Paired\", );  # Plot of time spent by different language users\n",
    "sns.catplot(data = df,  x= 'converted', y = \"time_spent_on_the_page\", hue = 'landing_page', kind = \"bar\",  \n",
    "            palette=\"Paired\", );  # Plot of conversion rates in old an new landing page"
   ]
  },
  {
   "cell_type": "markdown",
   "id": "4f38caf8-99eb-4477-9419-ce17b2745945",
   "metadata": {},
   "source": [
    "The mean time spent on the page for all three language_preferred is betweetn 5-6 minutes.\n",
    "\n",
    "All three preferred language spend at least a minute more time on the new page than the old page."
   ]
  },
  {
   "cell_type": "markdown",
   "id": "d834e31c-9bc8-4b15-8885-327f2a22a01b",
   "metadata": {},
   "source": [
    "____Questions and Statistical Analysis____"
   ]
  },
  {
   "cell_type": "markdown",
   "id": "18291e5b-818f-431d-aa95-33285b9002ff",
   "metadata": {},
   "source": [
    "**Q2 Do the users spend more time on the new landing page than the old landing page?**"
   ]
  },
  {
   "cell_type": "code",
   "execution_count": 29,
   "id": "15e232ba-adef-434d-a3aa-629f93139b19",
   "metadata": {},
   "outputs": [
    {
     "data": {
      "image/png": "[encoded data removed]",
      "text/plain": [
       "<Figure size 432x288 with 1 Axes>"
      ]
     },
     "metadata": {
      "needs_background": "light"
     },
     "output_type": "display_data"
    },
    {
     "data": {
      "text/plain": [
       "(landing_page\n",
       " new    6.22\n",
       " old    4.53\n",
       " Name: time_spent_on_the_page, dtype: float64,\n",
       " landing_page\n",
       " new    1.817031\n",
       " old    2.581975\n",
       " Name: time_spent_on_the_page, dtype: float64)"
      ]
     },
     "execution_count": 29,
     "metadata": {},
     "output_type": "execute_result"
    }
   ],
   "source": [
    "sns.barplot(data=df, x=\"landing_page\", y=\"time_spent_on_the_page\") # code for graph of landing_page agains time_spent_on_the_page\n",
    "plt.show()\n",
    "df1 = df.groupby(\"landing_page\")[\"time_spent_on_the_page\"]    # groupby landing_page(yes/no)\n",
    "round(df1.mean(), 2), df1.std()   #calculating the mean and median time spent on new and old landing_page"
   ]
  },
  {
   "cell_type": "markdown",
   "id": "e1457df2-8fba-4a9d-92a9-b5a3f30b5b60",
   "metadata": {},
   "source": [
    "***Null and alternative hypotheses***\n",
    "\n",
    "$H_0:$:  time spent by users in the new landing_page is equal to time spend by users in the old landing_page.\n",
    "\n",
    "$H_a:$   time spent by users in the new landing_page is greater than time spend by users in the old landing_page.\n",
    "\n",
    "Significance leve = 0.05\n",
    "|"
   ]
  },
  {
   "cell_type": "code",
   "execution_count": 30,
   "id": "3aa29a3c-121f-49b0-8622-918d1558237c",
   "metadata": {},
   "outputs": [
    {
     "name": "stdout",
     "output_type": "stream",
     "text": [
      "The p-value is  0.0001316123528095005\n",
      "reject null hypothesis\n"
     ]
    }
   ],
   "source": [
    "# import the required functions\n",
    "from scipy.stats import ttest_ind\n",
    "# prepare the data\n",
    "old_landing_page=df[df.landing_page=='old']['time_spent_on_the_page']     # time spent by people users on old landing_page\n",
    "new_landing_page=df[df.landing_page=='new']['time_spent_on_the_page']     # time spent by people users on new landing_page\n",
    "# find the p-value\n",
    "test_stat, p_value = ttest_ind(new_landing_page, old_landing_page, equal_var = True, alternative = 'greater')  #checking the null hypothesis(Ho)\n",
    "print('The p-value is ', p_value)\n",
    "if p_value<0.05:\n",
    "    print(\"reject null hypothesis\")\n",
    "else:\n",
    "    print(\"accept null hypothesis\")\n"
   ]
  },
  {
   "cell_type": "markdown",
   "id": "78f92782-b1c8-4cc3-b31e-c18f9d5940ed",
   "metadata": {},
   "source": [
    "__Conclusion__:\n",
    "Since the pvalue is < 0.05, we reject the null hypothesis. Hence, we have enough statistical evidence to say that users spend more time on the new landing page than the old landing_page "
   ]
  },
  {
   "cell_type": "markdown",
   "id": "a59d1953-4722-46b6-b1ec-ab6c5ef2e1c2",
   "metadata": {},
   "source": [
    "**Q3.Is the conversion rate (the proportion of users who visit the landing page and get converted) for the new page greater than the**"
   ]
  },
  {
   "cell_type": "code",
   "execution_count": 31,
   "id": "6bec3143-9a34-49e6-ae7e-de92ee37fbf6",
   "metadata": {},
   "outputs": [
    {
     "data": {
      "image/png": "[encoded data removed]",
      "text/plain": [
       "<Figure size 432x288 with 1 Axes>"
      ]
     },
     "metadata": {
      "needs_background": "light"
     },
     "output_type": "display_data"
    },
    {
     "data": {
      "text/plain": [
       "converted  landing_page\n",
       "no         old             29\n",
       "           new             17\n",
       "yes        new             33\n",
       "           old             21\n",
       "Name: landing_page, dtype: int64"
      ]
     },
     "execution_count": 31,
     "metadata": {},
     "output_type": "execute_result"
    }
   ],
   "source": [
    "sns.countplot(data = df,  x = 'converted', hue = 'landing_page');\n",
    "plt.show()\n",
    "conversion_rate = df.groupby('converted')['landing_page']  # grouping by converted \n",
    "conversion_rate.value_counts()                             # finding ratio of converted in each page"
   ]
  },
  {
   "cell_type": "markdown",
   "id": "65c7575d-a68e-45f3-a0e8-8eb6d8f1c01c",
   "metadata": {},
   "source": [
    "***Null and alternative hypotheses***\n",
    "\n",
    "$H_0:$:  Conversion rate by users in the new landing_page is equal to converstion rate by users in the old landing_page.\n",
    "\n",
    "$H_a:$   Conversion rate by users in the new landing_page is greater than the converstion rate by users in the old landing_page.\n",
    "\n",
    "\n",
    "Significance leve = 0.05\n"
   ]
  },
  {
   "cell_type": "markdown",
   "id": "266585ec-58e4-4b28-8150-d2a00c496231",
   "metadata": {},
   "source": [
    "sns.countplot(data=df, hue=\"converted\", x=\"landing_page\")\n",
    "plt.show()\n",
    "df4 = df.groupby(\"landing_page\")[\"converted\"]\n",
    "df4.value_counts() "
   ]
  },
  {
   "cell_type": "code",
   "execution_count": 16,
   "id": "36c275c4-894a-4fe0-bb7a-2b9aec283d76",
   "metadata": {},
   "outputs": [
    {
     "name": "stdout",
     "output_type": "stream",
     "text": [
      "0.008026308204056278\n",
      "reject null hypothesis\n"
     ]
    }
   ],
   "source": [
    "# find the p-value\n",
    "from statsmodels.stats.proportion import proportions_ztest\n",
    "stat, pval = proportions_ztest([33, 21], [50, 50], alternative = \"larger\")   #z proportions test for the null hypothesis (Ho)\n",
    "print(pval)\n",
    "if pval<0.05:\n",
    "    print(\"reject null hypothesis\")\n",
    "else:\n",
    "    print(\"accept null hypothesis\")\n"
   ]
  },
  {
   "cell_type": "markdown",
   "id": "e76ab44b-0bc5-47ef-bcf0-e0a538632b09",
   "metadata": {},
   "source": [
    "__Conclusion__\n",
    "Since the p-value is < 0.05, we reject the null hypothesis. There is enough statistical evidence to say that the conversion rate for the new landing_page is greater than for the old landing page."
   ]
  },
  {
   "cell_type": "markdown",
   "id": "6e59b610-cb58-4d21-b692-4a728710dee3",
   "metadata": {},
   "source": [
    "**Q4. Does the converted status depend on the preferred language? [Hint: Create a contingency table using the pandas.crosstab() function]**"
   ]
  },
  {
   "cell_type": "code",
   "execution_count": 17,
   "id": "a14c3e8c-54b8-455a-9b9c-2c8381775bfd",
   "metadata": {},
   "outputs": [
    {
     "data": {
      "image/png": "[encoded data removed]",
      "text/plain": [
       "<Figure size 432x288 with 1 Axes>"
      ]
     },
     "metadata": {
      "needs_background": "light"
     },
     "output_type": "display_data"
    }
   ],
   "source": [
    "sns.countplot(data=df, x = 'language_preferred',  hue = 'converted');\n",
    "#labeled_barplot(df, 'language_preferred', 'converted')  "
   ]
  },
  {
   "cell_type": "code",
   "execution_count": 18,
   "id": "38ad88c2-8895-42f5-8223-5f8b1573729d",
   "metadata": {},
   "outputs": [
    {
     "data": {
      "image/png": "[encoded data removed]",
      "text/plain": [
       "<Figure size 432x288 with 1 Axes>"
      ]
     },
     "metadata": {
      "needs_background": "light"
     },
     "output_type": "display_data"
    },
    {
     "data": {
      "text/plain": [
       "converted  language_preferred\n",
       "no         French                19\n",
       "           Spanish               16\n",
       "           English               11\n",
       "yes        English               21\n",
       "           Spanish               18\n",
       "           French                15\n",
       "Name: language_preferred, dtype: int64"
      ]
     },
     "execution_count": 18,
     "metadata": {},
     "output_type": "execute_result"
    }
   ],
   "source": [
    "sns.countplot(data=df, x = 'converted',  hue = 'language_preferred')\n",
    "plt.legend(loc='upper left');\n",
    "plt.show()\n",
    "df.groupby(\"converted\")['language_preferred'].value_counts()"
   ]
  },
  {
   "cell_type": "markdown",
   "id": "1e23bf64-60db-4d69-8861-1dd49f6a8897",
   "metadata": {},
   "source": [
    "***Null and alternative hypotheses***\n",
    "\n",
    "$H_0:$:  Converted status is the same for all three languages.\n",
    "\n",
    "$H_a:$   Converted status is different for at least one language.\n",
    "\n",
    "\n",
    "Significance leve = 0.05\n"
   ]
  },
  {
   "cell_type": "code",
   "execution_count": 19,
   "id": "3a09269b-6c54-422e-b216-c5893e671e30",
   "metadata": {},
   "outputs": [
    {
     "name": "stdout",
     "output_type": "stream",
     "text": [
      "The p-value is  0.2129888748754345\n",
      "accept null hypothesis\n"
     ]
    }
   ],
   "source": [
    "#import the required functions\n",
    "from scipy.stats import chi2_contingency\n",
    "#preparing the contingency table\n",
    "cont_table= pd.crosstab(df['language_preferred'],df['converted'])\n",
    "chi, p_value, dof, expected = chi2_contingency(cont_table)\n",
    "print('The p-value is ', p_value)\n",
    "if p_value <0.05:\n",
    "    print(\"reject null hypothesis\")\n",
    "else:\n",
    "    print(\"accept null hypothesis\")\n",
    "\n"
   ]
  },
  {
   "cell_type": "markdown",
   "id": "e8ec58ad-c9f3-40dc-a803-2a9e094273d4",
   "metadata": {},
   "source": [
    "__Conclusion__\n",
    "p-value > 0. The null hypothesis cannot be rejected. There is not enough statistical evidence to sugest the converted rate depends on a preferred language. "
   ]
  },
  {
   "cell_type": "markdown",
   "id": "7061e3db-9ac4-42df-be1b-c02d75c1c649",
   "metadata": {},
   "source": [
    "**Q5 Is the mean time spent on the new page same for the different language users?**"
   ]
  },
  {
   "cell_type": "code",
   "execution_count": 20,
   "id": "296bf4d2-8e2b-4fef-84c4-42dd981402b0",
   "metadata": {},
   "outputs": [
    {
     "data": {
      "image/png": "[encoded data removed]",
      "text/plain": [
       "<Figure size 720x360 with 2 Axes>"
      ]
     },
     "metadata": {
      "needs_background": "light"
     },
     "output_type": "display_data"
    }
   ],
   "source": [
    "sns.catplot(data = df,  x= 'language_preferred', y = \"time_spent_on_the_page\", col = 'landing_page', kind = \"box\",  \n",
    "            palette=\"Paired\");\n"
   ]
  },
  {
   "cell_type": "code",
   "execution_count": 21,
   "id": "b9dbaf48-a104-449a-9b3b-eb496282026c",
   "metadata": {},
   "outputs": [
    {
     "data": {
      "text/plain": [
       "language_preferred\n",
       "English    6.66\n",
       "French     6.20\n",
       "Spanish    5.84\n",
       "Name: time_spent_on_the_page, dtype: float64"
      ]
     },
     "execution_count": 21,
     "metadata": {},
     "output_type": "execute_result"
    }
   ],
   "source": [
    "df2 = df[df['landing_page']=='new'].reset_index()      # Calling rows for only new landing_page and reseting the index\n",
    "round(df2.groupby('language_preferred')['time_spent_on_the_page'].mean(), 2)  # grouping by preferred language and calculating the mean time spent \n",
    "                                                                            #each language on new landing_page\n"
   ]
  },
  {
   "cell_type": "markdown",
   "id": "f26a55a6-1539-4b98-a9ff-66003f99b672",
   "metadata": {},
   "source": [
    "***Null and alternative hypotheses***\n",
    "\n",
    "$H_0:$:  Mean time spent on the new landing_page is thhe same for all three languages.\n",
    "\n",
    "$H_a:$   Mean time spent on the new landing_page is different for at least one language.\n",
    "\n",
    "Significance level = 0.05"
   ]
  },
  {
   "cell_type": "code",
   "execution_count": 22,
   "id": "b332eedb-a364-485c-a252-35b56c30e504",
   "metadata": {},
   "outputs": [
    {
     "name": "stdout",
     "output_type": "stream",
     "text": [
      "The p-value is 0.950753956878039\n",
      "accept null hypothesis\n"
     ]
    }
   ],
   "source": [
    "#import the required function\n",
    "from scipy.stats import f_oneway\n",
    "\n",
    "# perform one-way anova test\n",
    "test_stat, p_value = f_oneway(df2.loc[df['language_preferred'] == 'Spanish', 'time_spent_on_the_page'],\n",
    "                              df2.loc[df['language_preferred'] == 'French', 'time_spent_on_the_page'],\n",
    "                              df2.loc[df['language_preferred'] == 'English', 'time_spent_on_the_page'])\n",
    "print('The p-value is ' + str(p_value))\n",
    "\n",
    "if p_value <0.05:\n",
    "    print(\"reject null hypothesis\")\n",
    "else:\n",
    "    print(\"accept null hypothesis\")\n",
    "\n"
   ]
  },
  {
   "cell_type": "code",
   "execution_count": null,
   "id": "7ff70a4e-0649-4df4-9070-dd58ff9b5de1",
   "metadata": {},
   "outputs": [],
   "source": [
    "#data[data['landing_page' == 'new']]['landing_page'].mean()"
   ]
  },
  {
   "cell_type": "markdown",
   "id": "03f5170b-6c66-4d3e-bf0d-533b665ab42f",
   "metadata": {},
   "source": [
    "mean time spent on new page is the same for different language users\n",
    "\n",
    "__Conclusion__\n",
    "p-value > 0.05.  The null hypothesis cannot be rejected. The mean time spent on the new page by different language users are not different\n"
   ]
  },
  {
   "cell_type": "markdown",
   "id": "beb807b3-8e3d-41dc-977d-867aa9f2da5f",
   "metadata": {},
   "source": [
    "## Conclusion\n",
    "\n",
    "- The users spend more time on the new page.\n",
    "\n",
    "- The conversion rate for the new page is greater than the conversion rate of the old page. \n",
    "\n",
    "- The conversion status is independent of the preferred language.\n",
    "\n",
    "- Based on the conclusions of the hypothesis tests, you can recommend that the news company should use the new landing page to gather more subscribers.\n",
    "\n",
    "- The longer a visitor spends on a site, the more likely he/she is to convert. So, the business logic would appear to be: design a page that people spend time in, conversion will follow. "
   ]
  },
  {
   "cell_type": "code",
   "execution_count": null,
   "id": "89afd730-6660-4910-ba3f-e66ee364c2b9",
   "metadata": {},
   "outputs": [],
   "source": []
  }
 ],
 "metadata": {
  "kernelspec": {
   "display_name": "Python 3 (ipykernel)",
   "language": "python",
   "name": "python3"
  },
  "language_info": {
   "codemirror_mode": {
    "name": "ipython",
    "version": 3
   },
   "file_extension": ".py",
   "mimetype": "text/x-python",
   "name": "python",
   "nbconvert_exporter": "python",
   "pygments_lexer": "ipython3",
   "version": "3.9.12"
  },
  "widgets": {
   "application/vnd.jupyter.widget-state+json": {
    "state": {},
    "version_major": 2,
    "version_minor": 0
   }
  }
 },
 "nbformat": 4,
 "nbformat_minor": 5
}
